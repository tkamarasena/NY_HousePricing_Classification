{
  "cells": [
    {
      "cell_type": "code",
      "execution_count": 7,
      "metadata": {
        "id": "Iu6eNqTmMBAs"
      },
      "outputs": [],
      "source": [
        "import statistics\n",
        "import numpy as np\n",
        "import pandas as pd\n",
        "import matplotlib.pyplot as plt\n",
        "import seaborn as sns\n",
        "import math"
      ]
    },
    {
      "cell_type": "markdown",
      "metadata": {
        "id": "bmgvMxByVABV"
      },
      "source": [
        "Import Libraries"
      ]
    },
    {
      "cell_type": "markdown",
      "metadata": {
        "id": "xVBUn9bOVJV8"
      },
      "source": [
        "#Loading dataset\n"
      ]
    },
    {
      "cell_type": "code",
      "execution_count": 8,
      "metadata": {
        "id": "WHy65YWGVHf9"
      },
      "outputs": [],
      "source": [
        "data=pd.read_csv(\"/content/sample_data/NY-House-Dataset.csv\")"
      ]
    },
    {
      "cell_type": "markdown",
      "source": [],
      "metadata": {
        "id": "qzbs6yRncHI0"
      }
    },
    {
      "cell_type": "markdown",
      "metadata": {
        "id": "C3QBxlG-VabU"
      },
      "source": [
        "#Understanding the data"
      ]
    },
    {
      "cell_type": "code",
      "execution_count": 9,
      "metadata": {
        "colab": {
          "base_uri": "https://localhost:8080/"
        },
        "id": "3KJYGe7NVZi4",
        "outputId": "2530ab42-508b-4ce4-8872-150cb7594916"
      },
      "outputs": [
        {
          "output_type": "stream",
          "name": "stdout",
          "text": [
            "<class 'pandas.core.frame.DataFrame'>\n",
            "RangeIndex: 4801 entries, 0 to 4800\n",
            "Data columns (total 17 columns):\n",
            " #   Column                       Non-Null Count  Dtype  \n",
            "---  ------                       --------------  -----  \n",
            " 0   BROKERTITLE                  4801 non-null   object \n",
            " 1   TYPE                         4801 non-null   object \n",
            " 2   PRICE                        4801 non-null   int64  \n",
            " 3   BEDS                         4801 non-null   int64  \n",
            " 4   BATH                         4801 non-null   float64\n",
            " 5   PROPERTYSQFT                 4801 non-null   float64\n",
            " 6   ADDRESS                      4801 non-null   object \n",
            " 7   STATE                        4801 non-null   object \n",
            " 8   MAIN_ADDRESS                 4801 non-null   object \n",
            " 9   ADMINISTRATIVE_AREA_LEVEL_2  4801 non-null   object \n",
            " 10  LOCALITY                     4801 non-null   object \n",
            " 11  SUBLOCALITY                  4801 non-null   object \n",
            " 12  STREET_NAME                  4801 non-null   object \n",
            " 13  LONG_NAME                    4801 non-null   object \n",
            " 14  FORMATTED_ADDRESS            4801 non-null   object \n",
            " 15  LATITUDE                     4801 non-null   float64\n",
            " 16  LONGITUDE                    4801 non-null   float64\n",
            "dtypes: float64(4), int64(2), object(11)\n",
            "memory usage: 637.8+ KB\n"
          ]
        }
      ],
      "source": [
        "data.info()"
      ]
    },
    {
      "cell_type": "code",
      "source": [
        "data.describe()"
      ],
      "metadata": {
        "colab": {
          "base_uri": "https://localhost:8080/",
          "height": 300
        },
        "id": "o5o3hYCp-SQv",
        "outputId": "defc6e6d-39cc-4d86-98f6-04d57d555ed5"
      },
      "execution_count": 10,
      "outputs": [
        {
          "output_type": "execute_result",
          "data": {
            "text/plain": [
              "              PRICE         BEDS         BATH  PROPERTYSQFT     LATITUDE  \\\n",
              "count  4.801000e+03  4801.000000  4801.000000   4801.000000  4801.000000   \n",
              "mean   2.356940e+06     3.356801     2.373861   2184.207862    40.714227   \n",
              "std    3.135525e+07     2.602315     1.946962   2377.140894     0.087676   \n",
              "min    2.494000e+03     1.000000     0.000000    230.000000    40.499546   \n",
              "25%    4.990000e+05     2.000000     1.000000   1200.000000    40.639375   \n",
              "50%    8.250000e+05     3.000000     2.000000   2184.207862    40.726749   \n",
              "75%    1.495000e+06     4.000000     3.000000   2184.207862    40.771923   \n",
              "max    2.147484e+09    50.000000    50.000000  65535.000000    40.912729   \n",
              "\n",
              "         LONGITUDE  \n",
              "count  4801.000000  \n",
              "mean    -73.941601  \n",
              "std       0.101082  \n",
              "min     -74.253033  \n",
              "25%     -73.987143  \n",
              "50%     -73.949189  \n",
              "75%     -73.870638  \n",
              "max     -73.702450  "
            ],
            "text/html": [
              "\n",
              "  <div id=\"df-d27f95ad-a893-4beb-af2c-3c8977e2c5f3\" class=\"colab-df-container\">\n",
              "    <div>\n",
              "<style scoped>\n",
              "    .dataframe tbody tr th:only-of-type {\n",
              "        vertical-align: middle;\n",
              "    }\n",
              "\n",
              "    .dataframe tbody tr th {\n",
              "        vertical-align: top;\n",
              "    }\n",
              "\n",
              "    .dataframe thead th {\n",
              "        text-align: right;\n",
              "    }\n",
              "</style>\n",
              "<table border=\"1\" class=\"dataframe\">\n",
              "  <thead>\n",
              "    <tr style=\"text-align: right;\">\n",
              "      <th></th>\n",
              "      <th>PRICE</th>\n",
              "      <th>BEDS</th>\n",
              "      <th>BATH</th>\n",
              "      <th>PROPERTYSQFT</th>\n",
              "      <th>LATITUDE</th>\n",
              "      <th>LONGITUDE</th>\n",
              "    </tr>\n",
              "  </thead>\n",
              "  <tbody>\n",
              "    <tr>\n",
              "      <th>count</th>\n",
              "      <td>4.801000e+03</td>\n",
              "      <td>4801.000000</td>\n",
              "      <td>4801.000000</td>\n",
              "      <td>4801.000000</td>\n",
              "      <td>4801.000000</td>\n",
              "      <td>4801.000000</td>\n",
              "    </tr>\n",
              "    <tr>\n",
              "      <th>mean</th>\n",
              "      <td>2.356940e+06</td>\n",
              "      <td>3.356801</td>\n",
              "      <td>2.373861</td>\n",
              "      <td>2184.207862</td>\n",
              "      <td>40.714227</td>\n",
              "      <td>-73.941601</td>\n",
              "    </tr>\n",
              "    <tr>\n",
              "      <th>std</th>\n",
              "      <td>3.135525e+07</td>\n",
              "      <td>2.602315</td>\n",
              "      <td>1.946962</td>\n",
              "      <td>2377.140894</td>\n",
              "      <td>0.087676</td>\n",
              "      <td>0.101082</td>\n",
              "    </tr>\n",
              "    <tr>\n",
              "      <th>min</th>\n",
              "      <td>2.494000e+03</td>\n",
              "      <td>1.000000</td>\n",
              "      <td>0.000000</td>\n",
              "      <td>230.000000</td>\n",
              "      <td>40.499546</td>\n",
              "      <td>-74.253033</td>\n",
              "    </tr>\n",
              "    <tr>\n",
              "      <th>25%</th>\n",
              "      <td>4.990000e+05</td>\n",
              "      <td>2.000000</td>\n",
              "      <td>1.000000</td>\n",
              "      <td>1200.000000</td>\n",
              "      <td>40.639375</td>\n",
              "      <td>-73.987143</td>\n",
              "    </tr>\n",
              "    <tr>\n",
              "      <th>50%</th>\n",
              "      <td>8.250000e+05</td>\n",
              "      <td>3.000000</td>\n",
              "      <td>2.000000</td>\n",
              "      <td>2184.207862</td>\n",
              "      <td>40.726749</td>\n",
              "      <td>-73.949189</td>\n",
              "    </tr>\n",
              "    <tr>\n",
              "      <th>75%</th>\n",
              "      <td>1.495000e+06</td>\n",
              "      <td>4.000000</td>\n",
              "      <td>3.000000</td>\n",
              "      <td>2184.207862</td>\n",
              "      <td>40.771923</td>\n",
              "      <td>-73.870638</td>\n",
              "    </tr>\n",
              "    <tr>\n",
              "      <th>max</th>\n",
              "      <td>2.147484e+09</td>\n",
              "      <td>50.000000</td>\n",
              "      <td>50.000000</td>\n",
              "      <td>65535.000000</td>\n",
              "      <td>40.912729</td>\n",
              "      <td>-73.702450</td>\n",
              "    </tr>\n",
              "  </tbody>\n",
              "</table>\n",
              "</div>\n",
              "    <div class=\"colab-df-buttons\">\n",
              "\n",
              "  <div class=\"colab-df-container\">\n",
              "    <button class=\"colab-df-convert\" onclick=\"convertToInteractive('df-d27f95ad-a893-4beb-af2c-3c8977e2c5f3')\"\n",
              "            title=\"Convert this dataframe to an interactive table.\"\n",
              "            style=\"display:none;\">\n",
              "\n",
              "  <svg xmlns=\"http://www.w3.org/2000/svg\" height=\"24px\" viewBox=\"0 -960 960 960\">\n",
              "    <path d=\"M120-120v-720h720v720H120Zm60-500h600v-160H180v160Zm220 220h160v-160H400v160Zm0 220h160v-160H400v160ZM180-400h160v-160H180v160Zm440 0h160v-160H620v160ZM180-180h160v-160H180v160Zm440 0h160v-160H620v160Z\"/>\n",
              "  </svg>\n",
              "    </button>\n",
              "\n",
              "  <style>\n",
              "    .colab-df-container {\n",
              "      display:flex;\n",
              "      gap: 12px;\n",
              "    }\n",
              "\n",
              "    .colab-df-convert {\n",
              "      background-color: #E8F0FE;\n",
              "      border: none;\n",
              "      border-radius: 50%;\n",
              "      cursor: pointer;\n",
              "      display: none;\n",
              "      fill: #1967D2;\n",
              "      height: 32px;\n",
              "      padding: 0 0 0 0;\n",
              "      width: 32px;\n",
              "    }\n",
              "\n",
              "    .colab-df-convert:hover {\n",
              "      background-color: #E2EBFA;\n",
              "      box-shadow: 0px 1px 2px rgba(60, 64, 67, 0.3), 0px 1px 3px 1px rgba(60, 64, 67, 0.15);\n",
              "      fill: #174EA6;\n",
              "    }\n",
              "\n",
              "    .colab-df-buttons div {\n",
              "      margin-bottom: 4px;\n",
              "    }\n",
              "\n",
              "    [theme=dark] .colab-df-convert {\n",
              "      background-color: #3B4455;\n",
              "      fill: #D2E3FC;\n",
              "    }\n",
              "\n",
              "    [theme=dark] .colab-df-convert:hover {\n",
              "      background-color: #434B5C;\n",
              "      box-shadow: 0px 1px 3px 1px rgba(0, 0, 0, 0.15);\n",
              "      filter: drop-shadow(0px 1px 2px rgba(0, 0, 0, 0.3));\n",
              "      fill: #FFFFFF;\n",
              "    }\n",
              "  </style>\n",
              "\n",
              "    <script>\n",
              "      const buttonEl =\n",
              "        document.querySelector('#df-d27f95ad-a893-4beb-af2c-3c8977e2c5f3 button.colab-df-convert');\n",
              "      buttonEl.style.display =\n",
              "        google.colab.kernel.accessAllowed ? 'block' : 'none';\n",
              "\n",
              "      async function convertToInteractive(key) {\n",
              "        const element = document.querySelector('#df-d27f95ad-a893-4beb-af2c-3c8977e2c5f3');\n",
              "        const dataTable =\n",
              "          await google.colab.kernel.invokeFunction('convertToInteractive',\n",
              "                                                    [key], {});\n",
              "        if (!dataTable) return;\n",
              "\n",
              "        const docLinkHtml = 'Like what you see? Visit the ' +\n",
              "          '<a target=\"_blank\" href=https://colab.research.google.com/notebooks/data_table.ipynb>data table notebook</a>'\n",
              "          + ' to learn more about interactive tables.';\n",
              "        element.innerHTML = '';\n",
              "        dataTable['output_type'] = 'display_data';\n",
              "        await google.colab.output.renderOutput(dataTable, element);\n",
              "        const docLink = document.createElement('div');\n",
              "        docLink.innerHTML = docLinkHtml;\n",
              "        element.appendChild(docLink);\n",
              "      }\n",
              "    </script>\n",
              "  </div>\n",
              "\n",
              "\n",
              "<div id=\"df-74eeeb55-d010-42b7-9069-621b94702709\">\n",
              "  <button class=\"colab-df-quickchart\" onclick=\"quickchart('df-74eeeb55-d010-42b7-9069-621b94702709')\"\n",
              "            title=\"Suggest charts\"\n",
              "            style=\"display:none;\">\n",
              "\n",
              "<svg xmlns=\"http://www.w3.org/2000/svg\" height=\"24px\"viewBox=\"0 0 24 24\"\n",
              "     width=\"24px\">\n",
              "    <g>\n",
              "        <path d=\"M19 3H5c-1.1 0-2 .9-2 2v14c0 1.1.9 2 2 2h14c1.1 0 2-.9 2-2V5c0-1.1-.9-2-2-2zM9 17H7v-7h2v7zm4 0h-2V7h2v10zm4 0h-2v-4h2v4z\"/>\n",
              "    </g>\n",
              "</svg>\n",
              "  </button>\n",
              "\n",
              "<style>\n",
              "  .colab-df-quickchart {\n",
              "      --bg-color: #E8F0FE;\n",
              "      --fill-color: #1967D2;\n",
              "      --hover-bg-color: #E2EBFA;\n",
              "      --hover-fill-color: #174EA6;\n",
              "      --disabled-fill-color: #AAA;\n",
              "      --disabled-bg-color: #DDD;\n",
              "  }\n",
              "\n",
              "  [theme=dark] .colab-df-quickchart {\n",
              "      --bg-color: #3B4455;\n",
              "      --fill-color: #D2E3FC;\n",
              "      --hover-bg-color: #434B5C;\n",
              "      --hover-fill-color: #FFFFFF;\n",
              "      --disabled-bg-color: #3B4455;\n",
              "      --disabled-fill-color: #666;\n",
              "  }\n",
              "\n",
              "  .colab-df-quickchart {\n",
              "    background-color: var(--bg-color);\n",
              "    border: none;\n",
              "    border-radius: 50%;\n",
              "    cursor: pointer;\n",
              "    display: none;\n",
              "    fill: var(--fill-color);\n",
              "    height: 32px;\n",
              "    padding: 0;\n",
              "    width: 32px;\n",
              "  }\n",
              "\n",
              "  .colab-df-quickchart:hover {\n",
              "    background-color: var(--hover-bg-color);\n",
              "    box-shadow: 0 1px 2px rgba(60, 64, 67, 0.3), 0 1px 3px 1px rgba(60, 64, 67, 0.15);\n",
              "    fill: var(--button-hover-fill-color);\n",
              "  }\n",
              "\n",
              "  .colab-df-quickchart-complete:disabled,\n",
              "  .colab-df-quickchart-complete:disabled:hover {\n",
              "    background-color: var(--disabled-bg-color);\n",
              "    fill: var(--disabled-fill-color);\n",
              "    box-shadow: none;\n",
              "  }\n",
              "\n",
              "  .colab-df-spinner {\n",
              "    border: 2px solid var(--fill-color);\n",
              "    border-color: transparent;\n",
              "    border-bottom-color: var(--fill-color);\n",
              "    animation:\n",
              "      spin 1s steps(1) infinite;\n",
              "  }\n",
              "\n",
              "  @keyframes spin {\n",
              "    0% {\n",
              "      border-color: transparent;\n",
              "      border-bottom-color: var(--fill-color);\n",
              "      border-left-color: var(--fill-color);\n",
              "    }\n",
              "    20% {\n",
              "      border-color: transparent;\n",
              "      border-left-color: var(--fill-color);\n",
              "      border-top-color: var(--fill-color);\n",
              "    }\n",
              "    30% {\n",
              "      border-color: transparent;\n",
              "      border-left-color: var(--fill-color);\n",
              "      border-top-color: var(--fill-color);\n",
              "      border-right-color: var(--fill-color);\n",
              "    }\n",
              "    40% {\n",
              "      border-color: transparent;\n",
              "      border-right-color: var(--fill-color);\n",
              "      border-top-color: var(--fill-color);\n",
              "    }\n",
              "    60% {\n",
              "      border-color: transparent;\n",
              "      border-right-color: var(--fill-color);\n",
              "    }\n",
              "    80% {\n",
              "      border-color: transparent;\n",
              "      border-right-color: var(--fill-color);\n",
              "      border-bottom-color: var(--fill-color);\n",
              "    }\n",
              "    90% {\n",
              "      border-color: transparent;\n",
              "      border-bottom-color: var(--fill-color);\n",
              "    }\n",
              "  }\n",
              "</style>\n",
              "\n",
              "  <script>\n",
              "    async function quickchart(key) {\n",
              "      const quickchartButtonEl =\n",
              "        document.querySelector('#' + key + ' button');\n",
              "      quickchartButtonEl.disabled = true;  // To prevent multiple clicks.\n",
              "      quickchartButtonEl.classList.add('colab-df-spinner');\n",
              "      try {\n",
              "        const charts = await google.colab.kernel.invokeFunction(\n",
              "            'suggestCharts', [key], {});\n",
              "      } catch (error) {\n",
              "        console.error('Error during call to suggestCharts:', error);\n",
              "      }\n",
              "      quickchartButtonEl.classList.remove('colab-df-spinner');\n",
              "      quickchartButtonEl.classList.add('colab-df-quickchart-complete');\n",
              "    }\n",
              "    (() => {\n",
              "      let quickchartButtonEl =\n",
              "        document.querySelector('#df-74eeeb55-d010-42b7-9069-621b94702709 button');\n",
              "      quickchartButtonEl.style.display =\n",
              "        google.colab.kernel.accessAllowed ? 'block' : 'none';\n",
              "    })();\n",
              "  </script>\n",
              "</div>\n",
              "\n",
              "    </div>\n",
              "  </div>\n"
            ],
            "application/vnd.google.colaboratory.intrinsic+json": {
              "type": "dataframe",
              "summary": "{\n  \"name\": \"data\",\n  \"rows\": 8,\n  \"fields\": [\n    {\n      \"column\": \"PRICE\",\n      \"properties\": {\n        \"dtype\": \"number\",\n        \"std\": 757480202.7835425,\n        \"min\": 2494.0,\n        \"max\": 2147483647.0,\n        \"num_unique_values\": 8,\n        \"samples\": [\n          2356940.17100604,\n          825000.0,\n          4801.0\n        ],\n        \"semantic_type\": \"\",\n        \"description\": \"\"\n      }\n    },\n    {\n      \"column\": \"BEDS\",\n      \"properties\": {\n        \"dtype\": \"number\",\n        \"std\": 1694.1596172620157,\n        \"min\": 1.0,\n        \"max\": 4801.0,\n        \"num_unique_values\": 8,\n        \"samples\": [\n          3.3568006665278065,\n          3.0,\n          4801.0\n        ],\n        \"semantic_type\": \"\",\n        \"description\": \"\"\n      }\n    },\n    {\n      \"column\": \"BATH\",\n      \"properties\": {\n        \"dtype\": \"number\",\n        \"std\": 1694.4476305392204,\n        \"min\": 0.0,\n        \"max\": 4801.0,\n        \"num_unique_values\": 8,\n        \"samples\": [\n          2.373860857970423,\n          2.0,\n          4801.0\n        ],\n        \"semantic_type\": \"\",\n        \"description\": \"\"\n      }\n    },\n    {\n      \"column\": \"PROPERTYSQFT\",\n      \"properties\": {\n        \"dtype\": \"number\",\n        \"std\": 22441.562258348582,\n        \"min\": 230.0,\n        \"max\": 65535.0,\n        \"num_unique_values\": 7,\n        \"samples\": [\n          4801.0,\n          2184.207861758384,\n          2184.207862\n        ],\n        \"semantic_type\": \"\",\n        \"description\": \"\"\n      }\n    },\n    {\n      \"column\": \"LATITUDE\",\n      \"properties\": {\n        \"dtype\": \"number\",\n        \"std\": 1685.1281388840723,\n        \"min\": 0.08767556707715031,\n        \"max\": 4801.0,\n        \"num_unique_values\": 8,\n        \"samples\": [\n          40.71422708323266,\n          40.7267495,\n          4801.0\n        ],\n        \"semantic_type\": \"\",\n        \"description\": \"\"\n      }\n    },\n    {\n      \"column\": \"LONGITUDE\",\n      \"properties\": {\n        \"dtype\": \"number\",\n        \"std\": 1720.010372832853,\n        \"min\": -74.2530332,\n        \"max\": 4801.0,\n        \"num_unique_values\": 8,\n        \"samples\": [\n          -73.94160121297645,\n          -73.949189,\n          4801.0\n        ],\n        \"semantic_type\": \"\",\n        \"description\": \"\"\n      }\n    }\n  ]\n}"
            }
          },
          "metadata": {},
          "execution_count": 10
        }
      ]
    },
    {
      "cell_type": "code",
      "source": [
        "# Creating the DataFrame\n",
        "df = pd.DataFrame(data)\n",
        "\n",
        "df['PRICE']"
      ],
      "metadata": {
        "colab": {
          "base_uri": "https://localhost:8080/"
        },
        "id": "riKvi7tUYHts",
        "outputId": "c0caf194-4a83-478f-dd0b-421af825e311"
      },
      "execution_count": 11,
      "outputs": [
        {
          "output_type": "execute_result",
          "data": {
            "text/plain": [
              "0          315000\n",
              "1       195000000\n",
              "2          260000\n",
              "3           69000\n",
              "4        55000000\n",
              "          ...    \n",
              "4796       599000\n",
              "4797       245000\n",
              "4798      1275000\n",
              "4799       598125\n",
              "4800       349000\n",
              "Name: PRICE, Length: 4801, dtype: int64"
            ]
          },
          "metadata": {},
          "execution_count": 11
        }
      ]
    },
    {
      "cell_type": "code",
      "source": [
        "df['BEDS']"
      ],
      "metadata": {
        "colab": {
          "base_uri": "https://localhost:8080/"
        },
        "id": "FHDf3ZDD61At",
        "outputId": "6f824634-a220-414d-8741-d0e040b23c49"
      },
      "execution_count": 12,
      "outputs": [
        {
          "output_type": "execute_result",
          "data": {
            "text/plain": [
              "0       2\n",
              "1       7\n",
              "2       4\n",
              "3       3\n",
              "4       7\n",
              "       ..\n",
              "4796    1\n",
              "4797    1\n",
              "4798    1\n",
              "4799    2\n",
              "4800    1\n",
              "Name: BEDS, Length: 4801, dtype: int64"
            ]
          },
          "metadata": {},
          "execution_count": 12
        }
      ]
    },
    {
      "cell_type": "code",
      "execution_count": 13,
      "metadata": {
        "colab": {
          "base_uri": "https://localhost:8080/"
        },
        "id": "X-IitMoVVnl8",
        "outputId": "0395704e-b5e7-44c0-ac7a-232debf0f790"
      },
      "outputs": [
        {
          "output_type": "execute_result",
          "data": {
            "text/plain": [
              "BROKERTITLE                     object\n",
              "TYPE                            object\n",
              "PRICE                            int64\n",
              "BEDS                             int64\n",
              "BATH                           float64\n",
              "PROPERTYSQFT                   float64\n",
              "ADDRESS                         object\n",
              "STATE                           object\n",
              "MAIN_ADDRESS                    object\n",
              "ADMINISTRATIVE_AREA_LEVEL_2     object\n",
              "LOCALITY                        object\n",
              "SUBLOCALITY                     object\n",
              "STREET_NAME                     object\n",
              "LONG_NAME                       object\n",
              "FORMATTED_ADDRESS               object\n",
              "LATITUDE                       float64\n",
              "LONGITUDE                      float64\n",
              "dtype: object"
            ]
          },
          "metadata": {},
          "execution_count": 13
        }
      ],
      "source": [
        "data.dtypes"
      ]
    },
    {
      "cell_type": "code",
      "execution_count": 14,
      "metadata": {
        "colab": {
          "base_uri": "https://localhost:8080/"
        },
        "id": "mXUPW9n8Vtp4",
        "outputId": "0e7cca49-72b0-4e7f-b106-05f85ac51399"
      },
      "outputs": [
        {
          "output_type": "execute_result",
          "data": {
            "text/plain": [
              "0          315000\n",
              "1       195000000\n",
              "2          260000\n",
              "3           69000\n",
              "4        55000000\n",
              "          ...    \n",
              "4796       599000\n",
              "4797       245000\n",
              "4798      1275000\n",
              "4799       598125\n",
              "4800       349000\n",
              "Name: PRICE, Length: 4801, dtype: int64"
            ]
          },
          "metadata": {},
          "execution_count": 14
        }
      ],
      "source": [
        "data['PRICE']"
      ]
    },
    {
      "cell_type": "code",
      "execution_count": 15,
      "metadata": {
        "id": "hYyYjPFDV-NT"
      },
      "outputs": [],
      "source": [
        "mean=statistics.mean(data['PRICE'])"
      ]
    },
    {
      "cell_type": "code",
      "execution_count": 16,
      "metadata": {
        "colab": {
          "base_uri": "https://localhost:8080/"
        },
        "id": "fbR6cfXKWEHj",
        "outputId": "bf3a17d7-762e-46fb-e072-6c551d5d7709"
      },
      "outputs": [
        {
          "output_type": "stream",
          "name": "stdout",
          "text": [
            "2356940.17\n"
          ]
        }
      ],
      "source": [
        "print(round(mean,2))"
      ]
    },
    {
      "cell_type": "code",
      "execution_count": 17,
      "metadata": {
        "colab": {
          "base_uri": "https://localhost:8080/"
        },
        "id": "youBvx0KWHyi",
        "outputId": "258d0fc6-dfc0-40fd-d1d3-a79cc1d9292e"
      },
      "outputs": [
        {
          "output_type": "stream",
          "name": "stdout",
          "text": [
            "2356940.17100604\n",
            "825000\n"
          ]
        }
      ],
      "source": [
        "print(mean)\n",
        "median=statistics.median(data['PRICE'])\n",
        "print(median)"
      ]
    },
    {
      "cell_type": "code",
      "execution_count": 18,
      "metadata": {
        "colab": {
          "base_uri": "https://localhost:8080/"
        },
        "id": "0i__lg25WRqc",
        "outputId": "beebf162-06e0-49f5-a482-db98012b24ca"
      },
      "outputs": [
        {
          "output_type": "stream",
          "name": "stdout",
          "text": [
            "31355246.26035201\n"
          ]
        }
      ],
      "source": [
        "sd=statistics.stdev(data['PRICE'])\n",
        "print(sd)"
      ]
    },
    {
      "cell_type": "code",
      "execution_count": 19,
      "metadata": {
        "colab": {
          "base_uri": "https://localhost:8080/"
        },
        "id": "buwfnFh0WgUR",
        "outputId": "a864611a-c5b6-4789-e536-a6b16e8e14d6"
      },
      "outputs": [
        {
          "output_type": "stream",
          "name": "stdout",
          "text": [
            "983151468047318.8\n"
          ]
        }
      ],
      "source": [
        "va=statistics.variance(data['PRICE'])\n",
        "print(va)"
      ]
    },
    {
      "cell_type": "code",
      "execution_count": 20,
      "metadata": {
        "colab": {
          "base_uri": "https://localhost:8080/"
        },
        "id": "AexA1VifWk4-",
        "outputId": "216575ae-04d8-458d-ffd1-c5ff3742f545"
      },
      "outputs": [
        {
          "output_type": "stream",
          "name": "stdout",
          "text": [
            "499000.0\n",
            "1495000.0\n"
          ]
        }
      ],
      "source": [
        "q1=np.percentile(data['PRICE'],25)\n",
        "print(q1)\n",
        "q3=np.percentile(data['PRICE'],75)\n",
        "print(q3)"
      ]
    },
    {
      "cell_type": "code",
      "execution_count": 21,
      "metadata": {
        "colab": {
          "base_uri": "https://localhost:8080/"
        },
        "id": "1Xctm6hFWyeT",
        "outputId": "22573c31-de17-447d-e5ef-d573421f1026"
      },
      "outputs": [
        {
          "output_type": "stream",
          "name": "stdout",
          "text": [
            "66.77913216992879\n"
          ]
        }
      ],
      "source": [
        "from scipy.stats import skew\n",
        "print(skew(data['PRICE']))"
      ]
    },
    {
      "cell_type": "markdown",
      "metadata": {
        "id": "0MdKc-dQW4pK"
      },
      "source": [
        "#Boxplot"
      ]
    },
    {
      "cell_type": "code",
      "execution_count": 22,
      "metadata": {
        "colab": {
          "base_uri": "https://localhost:8080/",
          "height": 785
        },
        "id": "3yFoVmc0W6Nc",
        "outputId": "a1d5f644-ee3e-413f-83e6-af238cdb5499"
      },
      "outputs": [
        {
          "output_type": "execute_result",
          "data": {
            "text/plain": [
              "<Axes: >"
            ]
          },
          "metadata": {},
          "execution_count": 22
        },
        {
          "output_type": "display_data",
          "data": {
            "text/plain": [
              "<Figure size 900x900 with 1 Axes>"
            ],
            "image/png": "[encoded data removed]"
          },
          "metadata": {}
        }
      ],
      "source": [
        "data['PRICE'].plot(kind=\"box\", figsize=(9,9))"
      ]
    },
    {
      "cell_type": "code",
      "execution_count": 23,
      "metadata": {
        "colab": {
          "base_uri": "https://localhost:8080/"
        },
        "id": "Fp_GN1e6YTVw",
        "outputId": "4ef6b7b5-504f-4665-f714-8967655c6be6"
      },
      "outputs": [
        {
          "output_type": "stream",
          "name": "stdout",
          "text": [
            "Skewness of the dataset: 66.80000463489985\n",
            "Skewness after transformation: 0.8226331868556626\n"
          ]
        }
      ],
      "source": [
        "# Calculate the skewness of the data\n",
        "skewness = data['PRICE'].skew()\n",
        "\n",
        "# Print the skewness value\n",
        "print(\"Skewness of the dataset:\", skewness)\n",
        "\n",
        "# If skewness is positive, apply log transformation to make the data more symmetric\n",
        "if skewness > 0:\n",
        "    transformed_data = np.log1p(data['PRICE'])  # Log transformation\n",
        "    # Replace the skewed column with the transformed data\n",
        "    data['PRICE'] = transformed_data\n",
        "\n",
        "# Print the updated skewness after transformation\n",
        "print(\"Skewness after transformation:\", data['PRICE'].skew())"
      ]
    },
    {
      "cell_type": "code",
      "execution_count": 24,
      "metadata": {
        "colab": {
          "base_uri": "https://localhost:8080/",
          "height": 770
        },
        "id": "EbPvxf1qY5lt",
        "outputId": "27c397fc-bbe6-49ad-8f03-5bc55fe807b7"
      },
      "outputs": [
        {
          "output_type": "execute_result",
          "data": {
            "text/plain": [
              "<Axes: >"
            ]
          },
          "metadata": {},
          "execution_count": 24
        },
        {
          "output_type": "display_data",
          "data": {
            "text/plain": [
              "<Figure size 900x900 with 1 Axes>"
            ],
            "image/png": "[encoded data removed]"
          },
          "metadata": {}
        }
      ],
      "source": [
        "data['PRICE'].plot(kind=\"box\", figsize=(9,9))"
      ]
    },
    {
      "cell_type": "code",
      "execution_count": 62,
      "metadata": {
        "colab": {
          "base_uri": "https://localhost:8080/"
        },
        "id": "cwXr6gomZj95",
        "outputId": "534580e4-606f-421c-d662-b518894edfa9"
      },
      "outputs": [
        {
          "output_type": "stream",
          "name": "stdout",
          "text": [
            "Lambda value: 1.000034132882029\n"
          ]
        }
      ],
      "source": [
        "from scipy.stats import boxcox\n",
        "\n",
        "# Assuming your dataset is stored in a pandas DataFrame called 'df'\n",
        "# Replace 'your_column_name' with the name of the column you want to transform\n",
        "\n",
        "# Shift the data to ensure positivity\n",
        "min_value = data['PRICE'].min()\n",
        "if min_value <= 0:\n",
        "    shift_amount = abs(min_value) + 1  # Add 1 to ensure positivity after shifting\n",
        "    data['PRICE'] += shift_amount\n",
        "else:\n",
        "    shift_amount = 0  # No need to shift if min_value is already positive\n",
        "\n",
        "# Apply the Box-Cox transformation to make the data symmetric within the range (-0.5, 0.5)\n",
        "transformed_data, lambda_ = boxcox(data['PRICE'])\n",
        "\n",
        "# Print the lambda value used in the transformation\n",
        "print(\"Lambda value:\", lambda_)\n",
        "\n",
        "# If lambda is close to zero, the transformation approximates a logarithmic transformation\n",
        "\n",
        "# Unshift the transformed data\n",
        "transformed_data -= shift_amount\n",
        "\n",
        "# Update the DataFrame with the transformed data\n",
        "data['PRICE'] = transformed_data\n"
      ]
    },
    {
      "cell_type": "code",
      "source": [],
      "metadata": {
        "id": "5kaeWeRCcdFY"
      },
      "execution_count": 25,
      "outputs": []
    },
    {
      "cell_type": "code",
      "source": [],
      "metadata": {
        "id": "vm05FMV3cdUP"
      },
      "execution_count": 25,
      "outputs": []
    },
    {
      "cell_type": "markdown",
      "source": [
        "for beds"
      ],
      "metadata": {
        "id": "5l03DcWrcKO4"
      }
    },
    {
      "cell_type": "code",
      "source": [
        "data['BEDS']"
      ],
      "metadata": {
        "colab": {
          "base_uri": "https://localhost:8080/"
        },
        "id": "ZWfNWWw8caXe",
        "outputId": "06ba0464-c8fa-454c-863b-70dfbf673ad7"
      },
      "execution_count": 26,
      "outputs": [
        {
          "output_type": "execute_result",
          "data": {
            "text/plain": [
              "0       2\n",
              "1       7\n",
              "2       4\n",
              "3       3\n",
              "4       7\n",
              "       ..\n",
              "4796    1\n",
              "4797    1\n",
              "4798    1\n",
              "4799    2\n",
              "4800    1\n",
              "Name: BEDS, Length: 4801, dtype: int64"
            ]
          },
          "metadata": {},
          "execution_count": 26
        }
      ]
    },
    {
      "cell_type": "code",
      "source": [
        "print(round(statistics.mean(data['BEDS']),2))"
      ],
      "metadata": {
        "colab": {
          "base_uri": "https://localhost:8080/"
        },
        "id": "0b1COIvvlk7N",
        "outputId": "f173afb3-db8f-40ee-86b1-e540e537d358"
      },
      "execution_count": 27,
      "outputs": [
        {
          "output_type": "stream",
          "name": "stdout",
          "text": [
            "3.36\n"
          ]
        }
      ]
    },
    {
      "cell_type": "code",
      "source": [
        "print(statistics.median(data['BEDS']))"
      ],
      "metadata": {
        "colab": {
          "base_uri": "https://localhost:8080/"
        },
        "id": "4kD5_kGYm2yK",
        "outputId": "6e472a52-eb7b-489f-ae1d-67628e4ff840"
      },
      "execution_count": 28,
      "outputs": [
        {
          "output_type": "stream",
          "name": "stdout",
          "text": [
            "3\n"
          ]
        }
      ]
    },
    {
      "cell_type": "code",
      "source": [
        "print(statistics.stdev(data['BEDS']))"
      ],
      "metadata": {
        "colab": {
          "base_uri": "https://localhost:8080/"
        },
        "id": "01aYSSjxofRt",
        "outputId": "47e0d6f1-41d5-48f2-bc12-30b3fcd9dcf4"
      },
      "execution_count": 29,
      "outputs": [
        {
          "output_type": "stream",
          "name": "stdout",
          "text": [
            "2.602314693140107\n"
          ]
        }
      ]
    },
    {
      "cell_type": "code",
      "source": [
        "print(statistics.variance(data['BEDS']))"
      ],
      "metadata": {
        "colab": {
          "base_uri": "https://localhost:8080/"
        },
        "id": "FHI7-MHnqmt1",
        "outputId": "f6a842f6-9550-4476-a7e8-f8f1ad9e5fb4"
      },
      "execution_count": 30,
      "outputs": [
        {
          "output_type": "stream",
          "name": "stdout",
          "text": [
            "6.772041762132889\n"
          ]
        }
      ]
    },
    {
      "cell_type": "code",
      "source": [
        "q1=np.percentile(data['BEDS'],25)\n",
        "print(q1)\n",
        "q3=np.percentile(data['BEDS'],75)\n",
        "print(q3)"
      ],
      "metadata": {
        "colab": {
          "base_uri": "https://localhost:8080/"
        },
        "id": "731VdvgKrWCe",
        "outputId": "301e9ceb-4351-4207-c5fe-dc48551e12d9"
      },
      "execution_count": 31,
      "outputs": [
        {
          "output_type": "stream",
          "name": "stdout",
          "text": [
            "2.0\n",
            "4.0\n"
          ]
        }
      ]
    },
    {
      "cell_type": "code",
      "source": [
        "from scipy.stats import skew\n",
        "print(skew(data['BEDS']))"
      ],
      "metadata": {
        "colab": {
          "base_uri": "https://localhost:8080/"
        },
        "id": "gY_gRZfOsBwN",
        "outputId": "ece1b7bc-d578-4cee-c93c-211c188da8be"
      },
      "execution_count": 32,
      "outputs": [
        {
          "output_type": "stream",
          "name": "stdout",
          "text": [
            "5.447439265773591\n"
          ]
        }
      ]
    },
    {
      "cell_type": "code",
      "source": [
        "data['BEDS'].plot(kind=\"box\", figsize=(9,9))"
      ],
      "metadata": {
        "colab": {
          "base_uri": "https://localhost:8080/",
          "height": 770
        },
        "id": "RYMx-cDtshAn",
        "outputId": "fd3e857e-579a-4b1e-8705-2ae335e85a9a"
      },
      "execution_count": 33,
      "outputs": [
        {
          "output_type": "execute_result",
          "data": {
            "text/plain": [
              "<Axes: >"
            ]
          },
          "metadata": {},
          "execution_count": 33
        },
        {
          "output_type": "display_data",
          "data": {
            "text/plain": [
              "<Figure size 900x900 with 1 Axes>"
            ],
            "image/png": "[encoded data removed]"
          },
          "metadata": {}
        }
      ]
    },
    {
      "cell_type": "code",
      "source": [
        "# Calculate the skewness of the beds\n",
        "skewness = data['BEDS'].skew()\n",
        "\n",
        "# Print the skewness value\n",
        "print(\"Skewness of the dataset:\", skewness)\n",
        "\n",
        "# If skewness is positive, apply log transformation to make the data more symmetric\n",
        "if skewness > 0:\n",
        "    transformed_data = np.log1p(data['BEDS'])  # Log transformation\n",
        "    # Replace the skewed column with the transformed data\n",
        "    data['BEDS'] = transformed_data\n",
        "\n",
        "# Print the updated skewness after transformation\n",
        "print(\"Skewness after transformation:\", data['BEDS'].skew())"
      ],
      "metadata": {
        "colab": {
          "base_uri": "https://localhost:8080/"
        },
        "id": "88S0WLEqs0lN",
        "outputId": "093b268e-e5be-4336-b3e6-928654d8da89"
      },
      "execution_count": 66,
      "outputs": [
        {
          "output_type": "stream",
          "name": "stdout",
          "text": [
            "Skewness of the dataset: -0.08499366311010038\n",
            "Skewness after transformation: -0.08499366311010038\n"
          ]
        }
      ]
    },
    {
      "cell_type": "code",
      "source": [
        "data['BEDS'].plot(kind=\"box\", figsize=(9,9))"
      ],
      "metadata": {
        "colab": {
          "base_uri": "https://localhost:8080/",
          "height": 770
        },
        "id": "0TPlERfCs0z_",
        "outputId": "acc40b58-853c-4870-cec9-7c2d159e6339"
      },
      "execution_count": 65,
      "outputs": [
        {
          "output_type": "execute_result",
          "data": {
            "text/plain": [
              "<Axes: >"
            ]
          },
          "metadata": {},
          "execution_count": 65
        },
        {
          "output_type": "display_data",
          "data": {
            "text/plain": [
              "<Figure size 900x900 with 1 Axes>"
            ],
            "image/png": "[encoded data removed]"
          },
          "metadata": {}
        }
      ]
    },
    {
      "cell_type": "code",
      "source": [
        "data['BEDS'].plot(kind = \"hist\", figsize=(9,9),bins=20)"
      ],
      "metadata": {
        "colab": {
          "base_uri": "https://localhost:8080/",
          "height": 770
        },
        "id": "c1FgwDii292V",
        "outputId": "0b35ecfd-fda9-46dc-eb9a-f2bfec551132"
      },
      "execution_count": 36,
      "outputs": [
        {
          "output_type": "execute_result",
          "data": {
            "text/plain": [
              "<Axes: ylabel='Frequency'>"
            ]
          },
          "metadata": {},
          "execution_count": 36
        },
        {
          "output_type": "display_data",
          "data": {
            "text/plain": [
              "<Figure size 900x900 with 1 Axes>"
            ],
            "image/png": "[encoded data removed]"
          },
          "metadata": {}
        }
      ]
    },
    {
      "cell_type": "markdown",
      "source": [],
      "metadata": {
        "id": "qLpHinK8UTzN"
      }
    },
    {
      "cell_type": "code",
      "source": [
        "from scipy.stats import skew\n",
        "print(skew(data['BEDS']))"
      ],
      "metadata": {
        "colab": {
          "base_uri": "https://localhost:8080/"
        },
        "id": "s26lppvbQMin",
        "outputId": "a4025927-8a63-4473-a731-4b448c87ca0f"
      },
      "execution_count": 37,
      "outputs": [
        {
          "output_type": "stream",
          "name": "stdout",
          "text": [
            "0.5419813855647306\n"
          ]
        }
      ]
    },
    {
      "cell_type": "markdown",
      "source": [
        "For bath"
      ],
      "metadata": {
        "id": "NaEA1SIFUVWS"
      }
    },
    {
      "cell_type": "code",
      "source": [
        "#convert data type float in to int"
      ],
      "metadata": {
        "id": "JASzdSm7UkQZ"
      },
      "execution_count": 38,
      "outputs": []
    },
    {
      "cell_type": "code",
      "source": [
        "data['BATH']=data['BATH'].astype(int)\n",
        "data['BEDS']=data['BEDS'].astype(int)"
      ],
      "metadata": {
        "id": "jOb8rkjdUsNf"
      },
      "execution_count": 39,
      "outputs": []
    },
    {
      "cell_type": "code",
      "source": [
        "data.dtypes"
      ],
      "metadata": {
        "colab": {
          "base_uri": "https://localhost:8080/"
        },
        "id": "LdiGUzQhU9n9",
        "outputId": "f3e66bb5-935c-456f-9542-b0c434db02b3"
      },
      "execution_count": 40,
      "outputs": [
        {
          "output_type": "execute_result",
          "data": {
            "text/plain": [
              "BROKERTITLE                     object\n",
              "TYPE                            object\n",
              "PRICE                          float64\n",
              "BEDS                             int64\n",
              "BATH                             int64\n",
              "PROPERTYSQFT                   float64\n",
              "ADDRESS                         object\n",
              "STATE                           object\n",
              "MAIN_ADDRESS                    object\n",
              "ADMINISTRATIVE_AREA_LEVEL_2     object\n",
              "LOCALITY                        object\n",
              "SUBLOCALITY                     object\n",
              "STREET_NAME                     object\n",
              "LONG_NAME                       object\n",
              "FORMATTED_ADDRESS               object\n",
              "LATITUDE                       float64\n",
              "LONGITUDE                      float64\n",
              "dtype: object"
            ]
          },
          "metadata": {},
          "execution_count": 40
        }
      ]
    },
    {
      "cell_type": "code",
      "source": [
        "data['BATH']"
      ],
      "metadata": {
        "colab": {
          "base_uri": "https://localhost:8080/"
        },
        "id": "JwZxVr5oVKCS",
        "outputId": "eb0246d5-0a08-4635-aa30-8a9a90c6773c"
      },
      "execution_count": 41,
      "outputs": [
        {
          "output_type": "execute_result",
          "data": {
            "text/plain": [
              "0        2\n",
              "1       10\n",
              "2        2\n",
              "3        1\n",
              "4        2\n",
              "        ..\n",
              "4796     1\n",
              "4797     1\n",
              "4798     1\n",
              "4799     1\n",
              "4800     1\n",
              "Name: BATH, Length: 4801, dtype: int64"
            ]
          },
          "metadata": {},
          "execution_count": 41
        }
      ]
    },
    {
      "cell_type": "markdown",
      "source": [
        "Binary classification"
      ],
      "metadata": {
        "id": "sqcvxaw2pzeu"
      }
    },
    {
      "cell_type": "code",
      "source": [
        "from sklearn.model_selection import train_test_split\n",
        "from sklearn.preprocessing import StandardScaler\n",
        "from sklearn.linear_model import LogisticRegression\n",
        "from sklearn.metrics import accuracy_score"
      ],
      "metadata": {
        "id": "l3EP-kHuqKDp"
      },
      "execution_count": 42,
      "outputs": []
    },
    {
      "cell_type": "code",
      "source": [
        "print(data.describe())\n",
        "\n"
      ],
      "metadata": {
        "colab": {
          "base_uri": "https://localhost:8080/"
        },
        "id": "nlS9E6xKsyaq",
        "outputId": "fe0d621d-c757-4918-ab46-e5f263804595"
      },
      "execution_count": 43,
      "outputs": [
        {
          "output_type": "stream",
          "name": "stdout",
          "text": [
            "             PRICE         BEDS         BATH  PROPERTYSQFT     LATITUDE  \\\n",
            "count  4801.000000  4801.000000  4801.000000   4801.000000  4801.000000   \n",
            "mean      1.033614     0.900646     2.350344   2184.207862    40.714227   \n",
            "std       0.007538     0.488110     1.949077   2377.140894     0.087676   \n",
            "min       0.959263     0.000000     0.000000    230.000000    40.499546   \n",
            "25%       1.029251     1.000000     1.000000   1200.000000    40.639375   \n",
            "50%       1.033218     1.000000     2.000000   2184.207862    40.726749   \n",
            "75%       1.037570     1.000000     3.000000   2184.207862    40.771923   \n",
            "max       1.072284     3.000000    50.000000  65535.000000    40.912729   \n",
            "\n",
            "         LONGITUDE  \n",
            "count  4801.000000  \n",
            "mean    -73.941601  \n",
            "std       0.101082  \n",
            "min     -74.253033  \n",
            "25%     -73.987143  \n",
            "50%     -73.949189  \n",
            "75%     -73.870638  \n",
            "max     -73.702450  \n"
          ]
        }
      ]
    },
    {
      "cell_type": "code",
      "source": [
        "# Data Exploration\n",
        "sns.pairplot(data[['PRICE', 'BEDS', 'BATH']])\n",
        "plt.show()"
      ],
      "metadata": {
        "colab": {
          "base_uri": "https://localhost:8080/",
          "height": 758
        },
        "id": "0-QFspv5tOk-",
        "outputId": "eb87a416-5cb2-4246-d984-9bb14c249fe5"
      },
      "execution_count": 44,
      "outputs": [
        {
          "output_type": "display_data",
          "data": {
            "text/plain": [
              "<Figure size 750x750 with 12 Axes>"
            ],
            "image/png": "[encoded data removed]"
          },
          "metadata": {}
        }
      ]
    },
    {
      "cell_type": "code",
      "source": [],
      "metadata": {
        "id": "OENxHwqEEfZ7"
      },
      "execution_count": 44,
      "outputs": []
    },
    {
      "cell_type": "markdown",
      "source": [
        "================================================================================"
      ],
      "metadata": {
        "id": "ZTOqanjPEhvD"
      }
    },
    {
      "cell_type": "code",
      "source": [
        "np.random.seed(0)\n",
        "num_samples = len(data)\n",
        "print(data['PRICE'].min())"
      ],
      "metadata": {
        "colab": {
          "base_uri": "https://localhost:8080/"
        },
        "id": "kSnWNZsjGWyO",
        "outputId": "90ec9c58-1e9e-4c58-a405-51cf9589ed0e"
      },
      "execution_count": 45,
      "outputs": [
        {
          "output_type": "stream",
          "name": "stdout",
          "text": [
            "0.9592633459443087\n"
          ]
        }
      ]
    },
    {
      "cell_type": "code",
      "source": [
        "house_prices = np.random.randint(min(data['PRICE']), max(data['PRICE']), num_samples)\n",
        "num_bedrooms = np.random.randint(min(data['BEDS']), max(data['BEDS']), num_samples)\n",
        "num_bathrooms = np.random.randint(min(data['BATH']), max(data['BATH']), num_samples)\n",
        "\n",
        "\n",
        "labels = np.random.randint(0, 2, num_samples)  # Binary labels: 0 or 1"
      ],
      "metadata": {
        "id": "Fde5TNrGFaUl"
      },
      "execution_count": 46,
      "outputs": []
    },
    {
      "cell_type": "code",
      "source": [
        "# Creating feature matrix\n",
        "X = np.column_stack((data['PRICE'], data['BEDS'], data['BATH']))\n",
        "\n",
        "# Splitting the data into training and testing sets\n",
        "X_train, X_test, y_train, y_test = train_test_split(X, labels, test_size=0.2, random_state=42)\n",
        "\n",
        "# Feature scaling\n",
        "scaler = StandardScaler()\n",
        "X_train_scaled = scaler.fit_transform(X_train)\n",
        "X_test_scaled = scaler.transform(X_test)"
      ],
      "metadata": {
        "id": "PYdZA52_ElvA"
      },
      "execution_count": 47,
      "outputs": []
    },
    {
      "cell_type": "code",
      "source": [
        "# Training a logistic regression model\n",
        "model = LogisticRegression()\n",
        "model.fit(X_train_scaled, y_train)"
      ],
      "metadata": {
        "colab": {
          "base_uri": "https://localhost:8080/",
          "height": 75
        },
        "id": "zQGrjPp9Z2-A",
        "outputId": "c87c4a4e-460b-443a-82d4-082a6f34447f"
      },
      "execution_count": 48,
      "outputs": [
        {
          "output_type": "execute_result",
          "data": {
            "text/plain": [
              "LogisticRegression()"
            ],
            "text/html": [
              "<style>#sk-container-id-1 {color: black;background-color: white;}#sk-container-id-1 pre{padding: 0;}#sk-container-id-1 div.sk-toggleable {background-color: white;}#sk-container-id-1 label.sk-toggleable__label {cursor: pointer;display: block;width: 100%;margin-bottom: 0;padding: 0.3em;box-sizing: border-box;text-align: center;}#sk-container-id-1 label.sk-toggleable__label-arrow:before {content: \"▸\";float: left;margin-right: 0.25em;color: #696969;}#sk-container-id-1 label.sk-toggleable__label-arrow:hover:before {color: black;}#sk-container-id-1 div.sk-estimator:hover label.sk-toggleable__label-arrow:before {color: black;}#sk-container-id-1 div.sk-toggleable__content {max-height: 0;max-width: 0;overflow: hidden;text-align: left;background-color: #f0f8ff;}#sk-container-id-1 div.sk-toggleable__content pre {margin: 0.2em;color: black;border-radius: 0.25em;background-color: #f0f8ff;}#sk-container-id-1 input.sk-toggleable__control:checked~div.sk-toggleable__content {max-height: 200px;max-width: 100%;overflow: auto;}#sk-container-id-1 input.sk-toggleable__control:checked~label.sk-toggleable__label-arrow:before {content: \"▾\";}#sk-container-id-1 div.sk-estimator input.sk-toggleable__control:checked~label.sk-toggleable__label {background-color: #d4ebff;}#sk-container-id-1 div.sk-label input.sk-toggleable__control:checked~label.sk-toggleable__label {background-color: #d4ebff;}#sk-container-id-1 input.sk-hidden--visually {border: 0;clip: rect(1px 1px 1px 1px);clip: rect(1px, 1px, 1px, 1px);height: 1px;margin: -1px;overflow: hidden;padding: 0;position: absolute;width: 1px;}#sk-container-id-1 div.sk-estimator {font-family: monospace;background-color: #f0f8ff;border: 1px dotted black;border-radius: 0.25em;box-sizing: border-box;margin-bottom: 0.5em;}#sk-container-id-1 div.sk-estimator:hover {background-color: #d4ebff;}#sk-container-id-1 div.sk-parallel-item::after {content: \"\";width: 100%;border-bottom: 1px solid gray;flex-grow: 1;}#sk-container-id-1 div.sk-label:hover label.sk-toggleable__label {background-color: #d4ebff;}#sk-container-id-1 div.sk-serial::before {content: \"\";position: absolute;border-left: 1px solid gray;box-sizing: border-box;top: 0;bottom: 0;left: 50%;z-index: 0;}#sk-container-id-1 div.sk-serial {display: flex;flex-direction: column;align-items: center;background-color: white;padding-right: 0.2em;padding-left: 0.2em;position: relative;}#sk-container-id-1 div.sk-item {position: relative;z-index: 1;}#sk-container-id-1 div.sk-parallel {display: flex;align-items: stretch;justify-content: center;background-color: white;position: relative;}#sk-container-id-1 div.sk-item::before, #sk-container-id-1 div.sk-parallel-item::before {content: \"\";position: absolute;border-left: 1px solid gray;box-sizing: border-box;top: 0;bottom: 0;left: 50%;z-index: -1;}#sk-container-id-1 div.sk-parallel-item {display: flex;flex-direction: column;z-index: 1;position: relative;background-color: white;}#sk-container-id-1 div.sk-parallel-item:first-child::after {align-self: flex-end;width: 50%;}#sk-container-id-1 div.sk-parallel-item:last-child::after {align-self: flex-start;width: 50%;}#sk-container-id-1 div.sk-parallel-item:only-child::after {width: 0;}#sk-container-id-1 div.sk-dashed-wrapped {border: 1px dashed gray;margin: 0 0.4em 0.5em 0.4em;box-sizing: border-box;padding-bottom: 0.4em;background-color: white;}#sk-container-id-1 div.sk-label label {font-family: monospace;font-weight: bold;display: inline-block;line-height: 1.2em;}#sk-container-id-1 div.sk-label-container {text-align: center;}#sk-container-id-1 div.sk-container {/* jupyter's `normalize.less` sets `[hidden] { display: none; }` but bootstrap.min.css set `[hidden] { display: none !important; }` so we also need the `!important` here to be able to override the default hidden behavior on the sphinx rendered scikit-learn.org. See: https://github.com/scikit-learn/scikit-learn/issues/21755 */display: inline-block !important;position: relative;}#sk-container-id-1 div.sk-text-repr-fallback {display: none;}</style><div id=\"sk-container-id-1\" class=\"sk-top-container\"><div class=\"sk-text-repr-fallback\"><pre>LogisticRegression()</pre><b>In a Jupyter environment, please rerun this cell to show the HTML representation or trust the notebook. <br />On GitHub, the HTML representation is unable to render, please try loading this page with nbviewer.org.</b></div><div class=\"sk-container\" hidden><div class=\"sk-item\"><div class=\"sk-estimator sk-toggleable\"><input class=\"sk-toggleable__control sk-hidden--visually\" id=\"sk-estimator-id-1\" type=\"checkbox\" checked><label for=\"sk-estimator-id-1\" class=\"sk-toggleable__label sk-toggleable__label-arrow\">LogisticRegression</label><div class=\"sk-toggleable__content\"><pre>LogisticRegression()</pre></div></div></div></div></div>"
            ]
          },
          "metadata": {},
          "execution_count": 48
        }
      ]
    },
    {
      "cell_type": "code",
      "source": [],
      "metadata": {
        "id": "kcBvPmLWibP8"
      },
      "execution_count": 48,
      "outputs": []
    },
    {
      "cell_type": "code",
      "source": [
        "y_pred = model.predict(X_test_scaled)\n",
        "\n",
        "# Calculating accuracy\n",
        "accuracy = accuracy_score(y_test, y_pred)\n",
        "print(\"Accuracy:\", accuracy)"
      ],
      "metadata": {
        "colab": {
          "base_uri": "https://localhost:8080/"
        },
        "id": "05AaldwfZ6Py",
        "outputId": "a042804c-8037-4bb8-f88f-24c03d3457a7"
      },
      "execution_count": 49,
      "outputs": [
        {
          "output_type": "stream",
          "name": "stdout",
          "text": [
            "Accuracy: 0.4724245577523413\n"
          ]
        }
      ]
    },
    {
      "cell_type": "code",
      "source": [
        "# Visualizing the data\n",
        "plt.scatter(X_test[:, 0], X_test[:, 1], c=y_pred, cmap='viridis')\n",
        "plt.xlabel('House Price')\n",
        "plt.ylabel('Number of Bedrooms')\n",
        "plt.title('Binary Classification of House Price and Number of Bedrooms')\n",
        "plt.colorbar(label='Predicted Label')\n",
        "plt.show()"
      ],
      "metadata": {
        "colab": {
          "base_uri": "https://localhost:8080/",
          "height": 472
        },
        "id": "fAEawGK9aDN_",
        "outputId": "ed8843a7-39cb-4fe1-e3d9-c11f5ec3699b"
      },
      "execution_count": 50,
      "outputs": [
        {
          "output_type": "display_data",
          "data": {
            "text/plain": [
              "<Figure size 640x480 with 2 Axes>"
            ],
            "image/png": "[encoded data removed]"
          },
          "metadata": {}
        }
      ]
    },
    {
      "cell_type": "code",
      "source": [
        "# Predicting whether the next house price is in the acceptable price range or not\n",
        "new_house_price = 300000\n",
        "new_num_bedrooms = 1\n",
        "new_num_bathrooms = 2\n",
        "\n",
        "new_data = scaler.transform([[new_house_price, new_num_bedrooms, new_num_bathrooms]])\n",
        "prediction = model.predict(new_data)\n",
        "if prediction[0] == 1:\n",
        "    print(\"The next house price is in the acceptable price range.\")\n",
        "else:\n",
        "    print(\"The next house price is not in the acceptable price range.\")"
      ],
      "metadata": {
        "colab": {
          "base_uri": "https://localhost:8080/"
        },
        "id": "9juF0hu_icrG",
        "outputId": "e3cb06dd-bb5a-4952-aad4-2a7ba7b9aa9e"
      },
      "execution_count": 55,
      "outputs": [
        {
          "output_type": "stream",
          "name": "stdout",
          "text": [
            "The next house price is in the acceptable price range.\n"
          ]
        }
      ]
    }
  ],
  "metadata": {
    "colab": {
      "provenance": []
    },
    "kernelspec": {
      "display_name": "Python 3",
      "name": "python3"
    },
    "language_info": {
      "name": "python"
    }
  },
  "nbformat": 4,
  "nbformat_minor": 0
}